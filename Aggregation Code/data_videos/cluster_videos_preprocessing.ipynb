{
 "cells": [
  {
   "cell_type": "markdown",
   "metadata": {},
   "source": [
    "# Data Videos Preprocessing"
   ]
  },
  {
   "cell_type": "markdown",
   "metadata": {},
   "source": [
    "This notebook has code with the purpose of pre-processing videos for further analysis in ImageJ/FIJI. It can do three things: i) threshold images in a video (make sure that only pure blacks or pure whites are in the video); ii) invert the colors of images in a video; and iii) convert videos into gif's."
   ]
  },
  {
   "cell_type": "code",
   "execution_count": 11,
   "metadata": {},
   "outputs": [
    {
     "name": "stdout",
     "output_type": "stream",
     "text": [
      "/Users/xavier/opt/anaconda3/bin/python\n"
     ]
    }
   ],
   "source": [
    "import sys\n",
    "print(sys.executable)"
   ]
  },
  {
   "cell_type": "code",
   "execution_count": 8,
   "metadata": {},
   "outputs": [],
   "source": [
    "# Print the paths where Python looks for modules\n",
    "# print(sys.path)\n",
    "\n",
    "# Search for the path where moviepy is installed\n",
    "for path in sys.path:\n",
    "    if 'moviepy' in path:\n",
    "        print(f\"moviepy is installed at: {path}\")"
   ]
  },
  {
   "cell_type": "code",
   "execution_count": 4,
   "metadata": {
    "executionInfo": {
     "elapsed": 264,
     "status": "ok",
     "timestamp": 1697071175216,
     "user": {
      "displayName": "Xavier Morales",
      "userId": "08392296322983791160"
     },
     "user_tz": 240
    },
    "id": "FjGK8-dkSZvQ"
   },
   "outputs": [],
   "source": [
    "import os\n",
    "import cv2\n",
    "import time\n",
    "import imageio\n",
    "import numpy as np\n",
    "import matplotlib.pyplot as plt\n",
    "from IPython.display import Image, display, clear_output"
   ]
  },
  {
   "cell_type": "markdown",
   "metadata": {},
   "source": [
    "## Testing to Process Video"
   ]
  },
  {
   "cell_type": "code",
   "execution_count": 10,
   "metadata": {
    "colab": {
     "base_uri": "https://localhost:8080/"
    },
    "executionInfo": {
     "elapsed": 277,
     "status": "ok",
     "timestamp": 1697072170992,
     "user": {
      "displayName": "Xavier Morales",
      "userId": "08392296322983791160"
     },
     "user_tz": 240
    },
    "id": "VvGdckfnSZvW",
    "outputId": "6267512f-03e0-4e64-a67f-1161bc8bc680"
   },
   "outputs": [
    {
     "name": "stdout",
     "output_type": "stream",
     "text": [
      "8897\n"
     ]
    }
   ],
   "source": [
    "# Output directory to save processed frames\n",
    "output_directory = 'aggregationA_processed_frames_2'\n",
    "os.makedirs(output_directory, exist_ok=True)\n",
    "\n",
    "# Open the video file\n",
    "video_file = 'aggregationA.mp4'\n",
    "cap = cv2.VideoCapture(video_file)\n",
    "\n",
    "if not cap.isOpened():\n",
    "    print(\"Error opening video file\")\n",
    "\n",
    "# Print number of frames in video.\n",
    "total_frames = int(cap.get(cv2.CAP_PROP_FRAME_COUNT))\n",
    "print(total_frames)"
   ]
  },
  {
   "cell_type": "code",
   "execution_count": 12,
   "metadata": {},
   "outputs": [],
   "source": [
    "# Initialize a frame counter\n",
    "frame_count = 0\n",
    "start_frame = 0 #450\n",
    "end_frame = 10000 #6000\n",
    "threshold_value = 128\n",
    "square_size = 1360  # Size of the square region to extract\n",
    "circle_radius = 680\n",
    "\n",
    "while True and frame_count < end_frame:\n",
    "    # Read a frame from the video\n",
    "    ret, frame = cap.read()\n",
    "    if not ret:\n",
    "        break\n",
    "    frame_count += 1\n",
    "    \n",
    "    if frame_count < start_frame:\n",
    "        continue\n",
    "    \n",
    "#     # Display the original image for reference.\n",
    "#     plt.figure(figsize=(8, 8))\n",
    "#     plt.imshow(cv2.cvtColor(frame, cv2.COLOR_BGR2RGB))\n",
    "#     plt.axis('off')\n",
    "#     plt.show()\n",
    "#     clear_output(wait=True)\n",
    "#     time.sleep(0.25)\n",
    "    \n",
    "    gray = cv2.cvtColor(frame, cv2.COLOR_BGR2GRAY)\n",
    "    inverted = 255 - gray\n",
    "    _, thresholded = cv2.threshold(inverted, threshold_value, 255, cv2.THRESH_BINARY)\n",
    "    \n",
    "    # Determine center of the frame\n",
    "    center_x = frame.shape[1] // 2 + 150\n",
    "    center_y = frame.shape[0] // 2 + 15\n",
    "    \n",
    "    # Place a circle in the center of the frame (for purposes of validation).\n",
    "    processed = inverted.copy()\n",
    "#     processed = cv2.circle(thresholded, (center_x,center_y), 10, (255, 255, 255), -1)  # Red centroid\n",
    "    \n",
    "#     # Create a mask for the circular region\n",
    "#     mask = np.zeros_like(processed)\n",
    "#     cv2.circle(mask, (center_x, center_y), circle_radius, (255, 255, 255), -1)\n",
    "    \n",
    "#     # Apply the mask to the thresholded frame\n",
    "#     processed = cv2.bitwise_and(processed, processed, mask=mask)\n",
    "    \n",
    "#     # Calculate the coordinates for the square region\n",
    "#     top_left_x = center_x - square_size // 2\n",
    "#     top_left_y = center_y - square_size // 2\n",
    "#     bottom_right_x = center_x + square_size // 2\n",
    "#     bottom_right_y = center_y + square_size // 2\n",
    "    \n",
    "#     # Trim to square region to finish processing\n",
    "#     processed = processed[top_left_y:bottom_right_y, top_left_x:bottom_right_x]\n",
    "    \n",
    "#     # Display the modified image for reference.\n",
    "#     plt.figure(figsize=(8, 8))\n",
    "#     plt.imshow(cv2.cvtColor(processed, cv2.COLOR_BGR2RGB))\n",
    "#     plt.axis('off')\n",
    "#     plt.show()\n",
    "#     time.sleep(0.1)\n",
    "\n",
    "#     break\n",
    "    \n",
    "#     # Clear the output\n",
    "#     clear_output(wait=True)\n",
    "    \n",
    "    # Save processed frame as image\n",
    "    cv2.imwrite(f'{output_directory}/frame_{frame_count:04d}.jpg', processed)\n",
    "    \n",
    "# # Display the modified image for reference.\n",
    "# plt.figure(figsize=(8, 8))\n",
    "# plt.imshow(cv2.cvtColor(frame, cv2.COLOR_BGR2RGB))\n",
    "# plt.axis('off')\n",
    "# plt.show()\n",
    "\n",
    "# cap.release()\n",
    "# print(frame_count)"
   ]
  },
  {
   "cell_type": "code",
   "execution_count": 95,
   "metadata": {},
   "outputs": [
    {
     "ename": "OSError",
     "evalue": "[Errno 28] No space left on device",
     "output_type": "error",
     "traceback": [
      "\u001b[0;31m---------------------------------------------------------------------------\u001b[0m",
      "\u001b[0;31mOSError\u001b[0m                                   Traceback (most recent call last)",
      "\u001b[0;32m/var/folders/sk/fzhvxn9x2gz_v5dd4xn30jx40000gn/T/ipykernel_17824/1772490630.py\u001b[0m in \u001b[0;36m<module>\u001b[0;34m\u001b[0m\n\u001b[1;32m      6\u001b[0m \u001b[0;34m\u001b[0m\u001b[0m\n\u001b[1;32m      7\u001b[0m \u001b[0md\u001b[0m \u001b[0;34m=\u001b[0m \u001b[0mround\u001b[0m\u001b[0;34m(\u001b[0m\u001b[0mframe_count\u001b[0m\u001b[0;34m/\u001b[0m\u001b[0;36m60\u001b[0m\u001b[0;34m,\u001b[0m\u001b[0;36m2\u001b[0m\u001b[0;34m)\u001b[0m\u001b[0;34m\u001b[0m\u001b[0;34m\u001b[0m\u001b[0m\n\u001b[0;32m----> 8\u001b[0;31m \u001b[0mimageio\u001b[0m\u001b[0;34m.\u001b[0m\u001b[0mmimsave\u001b[0m\u001b[0;34m(\u001b[0m\u001b[0;34m'aggregationC.gif'\u001b[0m\u001b[0;34m,\u001b[0m \u001b[0mimages\u001b[0m\u001b[0;34m,\u001b[0m \u001b[0mduration\u001b[0m\u001b[0;34m=\u001b[0m\u001b[0md\u001b[0m\u001b[0;34m)\u001b[0m  \u001b[0;31m# Adjust duration as needed\u001b[0m\u001b[0;34m\u001b[0m\u001b[0;34m\u001b[0m\u001b[0m\n\u001b[0m",
      "\u001b[0;32m~/opt/anaconda3/lib/python3.7/site-packages/imageio/core/functions.py\u001b[0m in \u001b[0;36mmimwrite\u001b[0;34m(uri, ims, format, **kwargs)\u001b[0m\n\u001b[1;32m    415\u001b[0m \u001b[0;34m\u001b[0m\u001b[0m\n\u001b[1;32m    416\u001b[0m             \u001b[0;31m# Add image\u001b[0m\u001b[0;34m\u001b[0m\u001b[0;34m\u001b[0m\u001b[0;34m\u001b[0m\u001b[0m\n\u001b[0;32m--> 417\u001b[0;31m             \u001b[0mwriter\u001b[0m\u001b[0;34m.\u001b[0m\u001b[0mappend_data\u001b[0m\u001b[0;34m(\u001b[0m\u001b[0mim\u001b[0m\u001b[0;34m)\u001b[0m\u001b[0;34m\u001b[0m\u001b[0;34m\u001b[0m\u001b[0m\n\u001b[0m\u001b[1;32m    418\u001b[0m             \u001b[0mwritten\u001b[0m \u001b[0;34m+=\u001b[0m \u001b[0;36m1\u001b[0m\u001b[0;34m\u001b[0m\u001b[0;34m\u001b[0m\u001b[0m\n\u001b[1;32m    419\u001b[0m \u001b[0;34m\u001b[0m\u001b[0m\n",
      "\u001b[0;32m~/opt/anaconda3/lib/python3.7/site-packages/imageio/core/format.py\u001b[0m in \u001b[0;36mappend_data\u001b[0;34m(self, im, meta)\u001b[0m\n\u001b[1;32m    490\u001b[0m             \u001b[0mim\u001b[0m \u001b[0;34m=\u001b[0m \u001b[0masarray\u001b[0m\u001b[0;34m(\u001b[0m\u001b[0mim\u001b[0m\u001b[0;34m)\u001b[0m\u001b[0;34m\u001b[0m\u001b[0;34m\u001b[0m\u001b[0m\n\u001b[1;32m    491\u001b[0m             \u001b[0;31m# Call\u001b[0m\u001b[0;34m\u001b[0m\u001b[0;34m\u001b[0m\u001b[0;34m\u001b[0m\u001b[0m\n\u001b[0;32m--> 492\u001b[0;31m             \u001b[0;32mreturn\u001b[0m \u001b[0mself\u001b[0m\u001b[0;34m.\u001b[0m\u001b[0m_append_data\u001b[0m\u001b[0;34m(\u001b[0m\u001b[0mim\u001b[0m\u001b[0;34m,\u001b[0m \u001b[0mtotal_meta\u001b[0m\u001b[0;34m)\u001b[0m\u001b[0;34m\u001b[0m\u001b[0;34m\u001b[0m\u001b[0m\n\u001b[0m\u001b[1;32m    493\u001b[0m \u001b[0;34m\u001b[0m\u001b[0m\n\u001b[1;32m    494\u001b[0m         \u001b[0;32mdef\u001b[0m \u001b[0mset_meta_data\u001b[0m\u001b[0;34m(\u001b[0m\u001b[0mself\u001b[0m\u001b[0;34m,\u001b[0m \u001b[0mmeta\u001b[0m\u001b[0;34m)\u001b[0m\u001b[0;34m:\u001b[0m\u001b[0;34m\u001b[0m\u001b[0;34m\u001b[0m\u001b[0m\n",
      "\u001b[0;32m~/opt/anaconda3/lib/python3.7/site-packages/imageio/plugins/pillowmulti.py\u001b[0m in \u001b[0;36m_append_data\u001b[0;34m(self, im, meta)\u001b[0m\n\u001b[1;32m    115\u001b[0m                 \u001b[0mduration\u001b[0m \u001b[0;34m=\u001b[0m \u001b[0mduration\u001b[0m\u001b[0;34m[\u001b[0m\u001b[0mmin\u001b[0m\u001b[0;34m(\u001b[0m\u001b[0mlen\u001b[0m\u001b[0;34m(\u001b[0m\u001b[0mduration\u001b[0m\u001b[0;34m)\u001b[0m \u001b[0;34m-\u001b[0m \u001b[0;36m1\u001b[0m\u001b[0;34m,\u001b[0m \u001b[0mself\u001b[0m\u001b[0;34m.\u001b[0m\u001b[0m_writer\u001b[0m\u001b[0;34m.\u001b[0m\u001b[0m_count\u001b[0m\u001b[0;34m)\u001b[0m\u001b[0;34m]\u001b[0m\u001b[0;34m\u001b[0m\u001b[0;34m\u001b[0m\u001b[0m\n\u001b[1;32m    116\u001b[0m             \u001b[0mdispose\u001b[0m \u001b[0;34m=\u001b[0m \u001b[0mself\u001b[0m\u001b[0;34m.\u001b[0m\u001b[0m_dispose\u001b[0m\u001b[0;34m\u001b[0m\u001b[0;34m\u001b[0m\u001b[0m\n\u001b[0;32m--> 117\u001b[0;31m             \u001b[0mself\u001b[0m\u001b[0;34m.\u001b[0m\u001b[0m_writer\u001b[0m\u001b[0;34m.\u001b[0m\u001b[0madd_image\u001b[0m\u001b[0;34m(\u001b[0m\u001b[0mim\u001b[0m\u001b[0;34m,\u001b[0m \u001b[0mduration\u001b[0m\u001b[0;34m,\u001b[0m \u001b[0mdispose\u001b[0m\u001b[0;34m)\u001b[0m\u001b[0;34m\u001b[0m\u001b[0;34m\u001b[0m\u001b[0m\n\u001b[0m\u001b[1;32m    118\u001b[0m \u001b[0;34m\u001b[0m\u001b[0m\n\u001b[1;32m    119\u001b[0m             \u001b[0;32mreturn\u001b[0m\u001b[0;34m\u001b[0m\u001b[0;34m\u001b[0m\u001b[0m\n",
      "\u001b[0;32m~/opt/anaconda3/lib/python3.7/site-packages/imageio/plugins/pillowmulti.py\u001b[0m in \u001b[0;36madd_image\u001b[0;34m(self, im, duration, dispose)\u001b[0m\n\u001b[1;32m    180\u001b[0m             \u001b[0mself\u001b[0m\u001b[0;34m.\u001b[0m\u001b[0mwrite_header\u001b[0m\u001b[0;34m(\u001b[0m\u001b[0mim_pil\u001b[0m\u001b[0;34m,\u001b[0m \u001b[0mpalette\u001b[0m\u001b[0;34m,\u001b[0m \u001b[0mself\u001b[0m\u001b[0;34m.\u001b[0m\u001b[0mopt_loop\u001b[0m\u001b[0;34m)\u001b[0m\u001b[0;34m\u001b[0m\u001b[0;34m\u001b[0m\u001b[0m\n\u001b[1;32m    181\u001b[0m             \u001b[0mself\u001b[0m\u001b[0;34m.\u001b[0m\u001b[0m_global_palette\u001b[0m \u001b[0;34m=\u001b[0m \u001b[0mpalette\u001b[0m\u001b[0;34m\u001b[0m\u001b[0;34m\u001b[0m\u001b[0m\n\u001b[0;32m--> 182\u001b[0;31m         \u001b[0mself\u001b[0m\u001b[0;34m.\u001b[0m\u001b[0mwrite_image\u001b[0m\u001b[0;34m(\u001b[0m\u001b[0mim_pil\u001b[0m\u001b[0;34m,\u001b[0m \u001b[0mpalette\u001b[0m\u001b[0;34m,\u001b[0m \u001b[0mrect\u001b[0m\u001b[0;34m,\u001b[0m \u001b[0mduration\u001b[0m\u001b[0;34m,\u001b[0m \u001b[0mdispose\u001b[0m\u001b[0;34m)\u001b[0m\u001b[0;34m\u001b[0m\u001b[0;34m\u001b[0m\u001b[0m\n\u001b[0m\u001b[1;32m    183\u001b[0m         \u001b[0;31m# assert len(palette) == len(self._global_palette)\u001b[0m\u001b[0;34m\u001b[0m\u001b[0;34m\u001b[0m\u001b[0;34m\u001b[0m\u001b[0m\n\u001b[1;32m    184\u001b[0m \u001b[0;34m\u001b[0m\u001b[0m\n",
      "\u001b[0;32m~/opt/anaconda3/lib/python3.7/site-packages/imageio/plugins/pillowmulti.py\u001b[0m in \u001b[0;36mwrite_image\u001b[0;34m(self, im, palette, rect, duration, dispose)\u001b[0m\n\u001b[1;32m    231\u001b[0m         \u001b[0;31m# Write image data\u001b[0m\u001b[0;34m\u001b[0m\u001b[0;34m\u001b[0m\u001b[0;34m\u001b[0m\u001b[0m\n\u001b[1;32m    232\u001b[0m         \u001b[0;32mfor\u001b[0m \u001b[0md\u001b[0m \u001b[0;32min\u001b[0m \u001b[0mdata\u001b[0m\u001b[0;34m:\u001b[0m\u001b[0;34m\u001b[0m\u001b[0;34m\u001b[0m\u001b[0m\n\u001b[0;32m--> 233\u001b[0;31m             \u001b[0mfp\u001b[0m\u001b[0;34m.\u001b[0m\u001b[0mwrite\u001b[0m\u001b[0;34m(\u001b[0m\u001b[0md\u001b[0m\u001b[0;34m)\u001b[0m\u001b[0;34m\u001b[0m\u001b[0;34m\u001b[0m\u001b[0m\n\u001b[0m\u001b[1;32m    234\u001b[0m \u001b[0;34m\u001b[0m\u001b[0m\n\u001b[1;32m    235\u001b[0m     \u001b[0;32mdef\u001b[0m \u001b[0mgetheaderAnim\u001b[0m\u001b[0;34m(\u001b[0m\u001b[0mself\u001b[0m\u001b[0;34m,\u001b[0m \u001b[0mim\u001b[0m\u001b[0;34m)\u001b[0m\u001b[0;34m:\u001b[0m\u001b[0;34m\u001b[0m\u001b[0;34m\u001b[0m\u001b[0m\n",
      "\u001b[0;31mOSError\u001b[0m: [Errno 28] No space left on device"
     ]
    }
   ],
   "source": [
    "# Create GIF from processed frames\n",
    "images = []\n",
    "for filename in sorted(os.listdir(output_directory)):\n",
    "    if filename.endswith('.jpg'):\n",
    "        images.append(imageio.imread(os.path.join(output_directory, filename)))\n",
    "\n",
    "d = round(frame_count/60,2)\n",
    "imageio.mimsave('aggregationC.gif', images, duration=d)  # Adjust duration as needed"
   ]
  },
  {
   "cell_type": "markdown",
   "metadata": {},
   "source": [
    "## Code to Actually Process Video"
   ]
  },
  {
   "cell_type": "code",
   "execution_count": 1,
   "metadata": {},
   "outputs": [],
   "source": [
    "# Define function to streamline processing of frames in a video.\n",
    "def process_frame(frame, threshold, square_size, circle_radius, x_offset = 0, y_offset = 0):\n",
    "    gray_frame = cv2.cvtColor(frame, cv2.COLOR_BGR2GRAY)\n",
    "    inverted_frame = cv2.bitwise_not(gray_frame)\n",
    "    _, thresholded_frame = cv2.threshold(inverted_frame, threshold, 255, cv2.THRESH_BINARY)\n",
    "    \n",
    "    # Create processed image for trimming.\n",
    "    processed_frame = inverted_frame #thresholded.copy()\n",
    "    \n",
    "#     # Determine center of the frame and offset by prespecified amount.\n",
    "#     center_x = (frame.shape[1] // 2) + x_offset\n",
    "#     center_y = (frame.shape[0] // 2) + y_offset\n",
    "    \n",
    "#     # Create a mask for the circular region\n",
    "#     mask = np.zeros_like(processed_frame)\n",
    "#     cv2.circle(mask, (center_x, center_y), circle_radius, (255, 255, 255), -1)\n",
    "    \n",
    "#     # Calculate the coordinates for the square region\n",
    "#     top_left_x = center_x - square_size // 2\n",
    "#     top_left_y = center_y - square_size // 2\n",
    "#     bottom_right_x = center_x + square_size // 2\n",
    "#     bottom_right_y = center_y + square_size // 2\n",
    "    \n",
    "#     # Trim to square region\n",
    "#     processed_trimmed = processed[top_left_y:bottom_right_y, top_left_x:bottom_right_x]\n",
    "    \n",
    "    return processed_trimmed"
   ]
  },
  {
   "cell_type": "code",
   "execution_count": null,
   "metadata": {},
   "outputs": [],
   "source": [
    "# Process video.\n",
    "\n",
    "# Parameters\n",
    "threshold_value = 128\n",
    "square_size = 1360    # Size of the square region to extract\n",
    "circle_radius = 680   # Radius of circular region to extract\n",
    "\n",
    "# Open video file\n",
    "video_path = 'aggregationA.mp4'\n",
    "output_gif_path = 'aggregationA2.gif'\n",
    "\n",
    "# Define the start and end times of the segment you want to process (in seconds)\n",
    "start_time = 1.5 * 60\n",
    "end_time = 20 * 60\n",
    "\n",
    "# Load the video clip and extract the desired subclip\n",
    "video_clip = VideoFileClip(video_path) #.subclip(start_time, end_time)\n",
    "\n",
    "# Process each frame and trim to square regions\n",
    "processed_frames = [process_frame(frame, threshold_value, square_size) for frame in video_clip.iter_frames()]\n",
    "\n",
    "# Close the video clip\n",
    "video_clip.close()"
   ]
  },
  {
   "cell_type": "code",
   "execution_count": null,
   "metadata": {},
   "outputs": [],
   "source": [
    "# Write the processed frames to a GIF\n",
    "gif_clip = ImageSequenceClip(processed_frames, fps=video_clip.fps)\n",
    "gif_clip.write_gif(output_gif_path)"
   ]
  },
  {
   "cell_type": "code",
   "execution_count": 97,
   "metadata": {},
   "outputs": [
    {
     "ename": "NameError",
     "evalue": "name 'VideoFileClip' is not defined",
     "output_type": "error",
     "traceback": [
      "\u001b[0;31m---------------------------------------------------------------------------\u001b[0m",
      "\u001b[0;31mNameError\u001b[0m                                 Traceback (most recent call last)",
      "\u001b[0;32m/var/folders/sk/fzhvxn9x2gz_v5dd4xn30jx40000gn/T/ipykernel_17824/2788522705.py\u001b[0m in \u001b[0;36m<module>\u001b[0;34m\u001b[0m\n\u001b[0;32m----> 1\u001b[0;31m \u001b[0mclip\u001b[0m \u001b[0;34m=\u001b[0m \u001b[0mVideoFileClip\u001b[0m\u001b[0;34m(\u001b[0m\u001b[0;34m\"aggregationC.mp4\"\u001b[0m\u001b[0;34m)\u001b[0m\u001b[0;34m\u001b[0m\u001b[0;34m\u001b[0m\u001b[0m\n\u001b[0m\u001b[1;32m      2\u001b[0m \u001b[0mclip\u001b[0m\u001b[0;34m.\u001b[0m\u001b[0mfps\u001b[0m\u001b[0;34m\u001b[0m\u001b[0;34m\u001b[0m\u001b[0m\n",
      "\u001b[0;31mNameError\u001b[0m: name 'VideoFileClip' is not defined"
     ]
    }
   ],
   "source": [
    "clip = VideoFileClip(\"aggregationA.mp4\")\n",
    "clip.fps"
   ]
  },
  {
   "cell_type": "markdown",
   "metadata": {},
   "source": [
    "## New Approach to Stitch Together Processed Frames into a Gif"
   ]
  },
  {
   "cell_type": "code",
   "execution_count": 13,
   "metadata": {},
   "outputs": [
    {
     "name": "stdout",
     "output_type": "stream",
     "text": [
      "GIF created successfully!\n"
     ]
    }
   ],
   "source": [
    "import imageio\n",
    "import os\n",
    "\n",
    "# Directory containing the JPEG files\n",
    "input_dir = \"aggregationA_processed_frames_2/\"\n",
    "\n",
    "# Output GIF file path\n",
    "output_gif_path = \"aggregationA2.gif\"\n",
    "\n",
    "# List all JPEG files in the directory\n",
    "jpg_files = [f for f in os.listdir(input_dir) if f.endswith('.jpg')]\n",
    "\n",
    "# Sort the files based on their frame number\n",
    "jpg_files.sort(key=lambda x: int(x.split('_')[1].split('.')[0]))\n",
    "\n",
    "# Read images and create GIF\n",
    "images = []\n",
    "count = 0\n",
    "factor = 4\n",
    "for filename in jpg_files:\n",
    "    if count % factor == 0:\n",
    "        file_path = os.path.join(input_dir, filename)\n",
    "        images.append(imageio.imread(file_path))\n",
    "    count += 1\n",
    "\n",
    "# Adjust frame duration to control GIF speed (in seconds)\n",
    "frame_duration = 0.1  # Modify as needed\n",
    "\n",
    "# Save images as GIF\n",
    "imageio.mimsave(output_gif_path, images, duration=frame_duration)\n",
    "\n",
    "print(\"GIF created successfully!\")"
   ]
  },
  {
   "cell_type": "code",
   "execution_count": null,
   "metadata": {},
   "outputs": [],
   "source": []
  }
 ],
 "metadata": {
  "colab": {
   "provenance": []
  },
  "kernelspec": {
   "display_name": "Python 3 (ipykernel)",
   "language": "python",
   "name": "python3"
  },
  "language_info": {
   "codemirror_mode": {
    "name": "ipython",
    "version": 3
   },
   "file_extension": ".py",
   "mimetype": "text/x-python",
   "name": "python",
   "nbconvert_exporter": "python",
   "pygments_lexer": "ipython3",
   "version": "3.7.6"
  }
 },
 "nbformat": 4,
 "nbformat_minor": 1
}
